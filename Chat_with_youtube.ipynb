{
  "cells": [
    {
      "cell_type": "markdown",
      "metadata": {
        "id": "5YTr-AOZh7Ek"
      },
      "source": [
        "# CHAT WITH YOUTUBE"
      ]
    },
    {
      "cell_type": "code",
      "execution_count": null,
      "metadata": {
        "colab": {
          "base_uri": "https://localhost:8080/"
        },
        "id": "Ar91gZCyBCzj",
        "outputId": "64b3bba9-8efd-40a0-fd40-c99a594b96d0"
      },
      "outputs": [
        {
          "name": "stdout",
          "output_type": "stream",
          "text": [
            "\u001b[?25l   \u001b[90m━━━━━━━━━━━━━━━━━━━━━━━━━━━━━━━━━━━━━━━━\u001b[0m \u001b[32m0.0/485.7 kB\u001b[0m \u001b[31m?\u001b[0m eta \u001b[36m-:--:--\u001b[0m\r\u001b[2K   \u001b[90m━━━━━━━━━━━━━━━━━━━━━━━━━━━━━━━━━━━━━━━━\u001b[0m \u001b[32m485.7/485.7 kB\u001b[0m \u001b[31m15.3 MB/s\u001b[0m eta \u001b[36m0:00:00\u001b[0m\n",
            "\u001b[?25h\u001b[?25l   \u001b[90m━━━━━━━━━━━━━━━━━━━━━━━━━━━━━━━━━━━━━━━━\u001b[0m \u001b[32m0.0/2.5 MB\u001b[0m \u001b[31m?\u001b[0m eta \u001b[36m-:--:--\u001b[0m\r\u001b[2K   \u001b[90m━━━━━━━━━━━━━━━━━━━━━━━━━━━━━━━━━━━━━━━━\u001b[0m \u001b[32m2.5/2.5 MB\u001b[0m \u001b[31m79.9 MB/s\u001b[0m eta \u001b[36m0:00:00\u001b[0m\n",
            "\u001b[2K   \u001b[90m━━━━━━━━━━━━━━━━━━━━━━━━━━━━━━━━━━━━━━━━\u001b[0m \u001b[32m69.0/69.0 kB\u001b[0m \u001b[31m7.0 MB/s\u001b[0m eta \u001b[36m0:00:00\u001b[0m\n",
            "\u001b[2K   \u001b[90m━━━━━━━━━━━━━━━━━━━━━━━━━━━━━━━━━━━━━━━━\u001b[0m \u001b[32m31.3/31.3 MB\u001b[0m \u001b[31m27.8 MB/s\u001b[0m eta \u001b[36m0:00:00\u001b[0m\n",
            "\u001b[2K   \u001b[90m━━━━━━━━━━━━━━━━━━━━━━━━━━━━━━━━━━━━━━━━\u001b[0m \u001b[32m44.4/44.4 kB\u001b[0m \u001b[31m4.1 MB/s\u001b[0m eta \u001b[36m0:00:00\u001b[0m\n",
            "\u001b[2K   \u001b[90m━━━━━━━━━━━━━━━━━━━━━━━━━━━━━━━━━━━━━━━━\u001b[0m \u001b[32m50.9/50.9 kB\u001b[0m \u001b[31m4.7 MB/s\u001b[0m eta \u001b[36m0:00:00\u001b[0m\n",
            "\u001b[?25h"
          ]
        }
      ],
      "source": [
        "!pip install -q youtube-transcript-api langchain-community langchain-openai \\\n",
        "               faiss-cpu tiktoken python-dotenv"
      ]
    },
    {
      "cell_type": "code",
      "execution_count": null,
      "metadata": {
        "id": "qkViubZsFPZy"
      },
      "outputs": [],
      "source": [
        "from youtube_transcript_api import YouTubeTranscriptApi, TranscriptsDisabled\n",
        "from langchain.text_splitter import RecursiveCharacterTextSplitter\n",
        "from langchain_community.vectorstores import FAISS\n",
        "from langchain_core.prompts import PromptTemplate"
      ]
    },
    {
      "cell_type": "markdown",
      "metadata": {
        "id": "EGp6AlxxhuNG"
      },
      "source": [
        "### Extracting ID from Youtube URL"
      ]
    },
    {
      "cell_type": "code",
      "execution_count": null,
      "metadata": {
        "id": "dfz6eCUTUve5"
      },
      "outputs": [],
      "source": [
        "import re\n",
        "\n",
        "def get_video_id(url):\n",
        "  youtube_regex = (\n",
        "      r'(https?://)?(www\\.)?'\n",
        "      '(youtube|youtu|youtube-nocookie)\\.(com|be)/'\n",
        "      '(watch\\?v=|embed/|v/|.+\\?v=)?([a-zA-Z0-9_-]{11})'\n",
        "  )\n",
        "  match = re.search(youtube_regex, url)\n",
        "  if match:\n",
        "    return match.group(6)\n",
        "  return None\n"
      ]
    },
    {
      "cell_type": "markdown",
      "metadata": {
        "id": "LuD_lgrQiFl-"
      },
      "source": [
        "#### Put the url here"
      ]
    },
    {
      "cell_type": "code",
      "execution_count": null,
      "metadata": {
        "colab": {
          "base_uri": "https://localhost:8080/"
        },
        "id": "45f7M7rvhSYg",
        "outputId": "6d19c2c3-c3ca-480a-f073-d93147e9b874"
      },
      "outputs": [
        {
          "name": "stdout",
          "output_type": "stream",
          "text": [
            "whether you think artificial intelligence will save the world or end it you have Jeffrey Hinton to thank Hinton has been called The Godfather of AI a British computer scientist whose controversial ideas help make advanced artificial intelligence possible and so change the world Hinton believes that AI will do enormous good but tonight he has a warning he says that AI systems may be more intelligent than we know and there's a chance the machines could take over which made us ask the question the story will continue in a moment does Humanity know what it's doing no um I think we're moving into a period when for the first time ever we may have things more intelligent than us you believe they can understand yes you believe they are intelligent yes you believe these systems have experiences of their own and can make decisions based on those experiences in the same sense as people do yes are they conscious I think they probably don't have much self-awareness at present so in that sense I don't think they're conscious will they have self-awareness consciousness I oh yes I think they will in time and so human beings will be the second most intelligent beings on the planet yeah Jeffrey Hinton told us the artificial intelligence he set in motion was an accident born of a failure in the 1970s at the University of Edinburgh he dreamed of simulating a neural network on a computer simply as a tool for what he was really studying the human brain but back then almost no one thought software could mimic the brain his PhD advisor told him to drop it before it ruined his career Hinton says he failed to figure out the human mind but the long Pursuit led to an artificial version it took much much longer than I expected it took like 50 years before it worked well but in the end it did work well at what point did you you realize that you were right about neural networks and most everyone else was wrong I always thought I was right in 2019 Hinton and collaborators Yan laon on the left and yosua Beno won the touring award the Nobel Prize of computing to understand how their work on artificial neural networks helped machines learn to learn let us take you to a a game look at that oh my goodness this is Google's AI lab in London which we first showed you this past April Jeffrey Hinton wasn't involved in this soccer project but these robots are a great example of machine learning the thing to understand is that the robots were not programmed to play soccer they were told to score they had to learn how on their own oh go in general here's how AI does it Henton and his collaborators created software in layers with each layer handling part of the problem that's the so-called neural network but this is the key when for example the robot scores a message is sent back down through all of the layers that says that pathway was right likewise when an answer is wrong that message goes down through the network so correct connections get stronger wrong connections get weaker and by trial and error the machine teaches itself you think these AI systems are better at learning than the human mind I think they may be yes and at present they're quite a lot smaller so even the biggest chatbots only have about a trillion Connections in them the human brain has about 100 trillion and yet in the trillion Connections in a chatot it knows far more than you do in your 100 trillion connections which suggests it's got a much better way of getting knowledge into those connections a much better way of getting knowledge that isn't fully understood we have a very good idea of sort of roughly what it's doing but as soon as it gets really complicated we don't actually know what's going on anymore than we know what's going on in your brain what do you mean we don't know exactly how it works it was designed by people no it wasn't what we did was we designed the learning algorithm that's a bit like designing the principle of evolution but when this learning algorithm then interacts with data it produces complicated neural networks that are good at doing things but we don't really understand exactly how they do those things what are the implications of these systems autonomously writing their own computer code and executing their own computer code that's a serious worry right so one of the ways in which these systems might Escape control is by writing their own computer code to modify themselves and that's something we need to seriously worry about what do you say to someone who might argue if the systems become benevolent just turn them off they will be able to manipulate people right and these will be very good at convincing people because they'll have learned from all the novels that were ever written all the books by makavelli all the political connives they'll know all that stuff they'll know how to do it knowhow of the human kind runs in Jeffrey hinton's family his ancestors include mathematician George buou who invented the basis of computing and George Everest who surveyed India and got that mountain named after him but as a boy Hinton himself could never climb the peak of expectations raised by a domineering father every morning when I went to school he'd actually say to me as I walked down the driveway get in their pitching and maybe when you're twice as old as me you'll be half as good dad was an authority on Beatles he knew a lot more about beatles than he knew about people did you feel that as a child a bit yes when he died we went to his study at the University and the walls were lined with boxes of papers on different kinds of beetle and just near the door there was a slightly smaller box that simply said not insects and that's where he had all the things about the family today at 75 Hinton recently retired after what he calls 10 happy years at Google now he's professor ameritus at the University of Toronto and he happened to mention he has more academic citations than his father some of his research led to chatbots like Google's Bard which we met last spring confounding absolutely confounding we asked Bard to write a story from six words for sale baby shoes never worn holy cow the shoes were a gift from my wife but we never had a baby Bard created a deeply human tale of a man whose wife could not conceive and a stranger who accepted the shoes to heal the pain after her miscarriage I am rarely speechless I don't know what to make of this chatbots are said to be language models that just predict the next most likely word based on probability you'll hear people saying things like they're just doing autocomplete they're just trying to predict the next word and they're just using statistics well it's true they're just trying to predict the next word but if you think about it to predict the next word you have to understand the sentences so the idea they just predicting the next word so they're not intelligent is crazy you have to be really intelligent to predict the next word really accurately to prove it Hinton showed us a test he devised for chat gp4 the chatbot from a company called open AI it was sort of reassuring to see a turing Award winner mistype and blame the computer oh damn this thing we're going to go back and start again that's okay hinton's test was a riddle about house painting an answer would demand reasoning and planning this is what he typed into chat gp4 the rooms in my house are painted white or blue or yellow and yellow paint Fades to White within a year in 2 years time I'd like all the rooms to be white what should I do the answer began in one second gp4 advised the rooms painted in blue need to be repainted the rooms painted in yellow don't need to be repainted because they would Fade to White before the deadline and oh I didn't even think of that it warned if you paint the yellow rooms white there's a risk the color might be off when the yellow Fades besides it advised you'd be wasting resources painting rooms that were going to Fade to White anyway you believe that chat GPD 4 understands I believe it definitely understands yes and in 5 years time I think in 5 years time it may well be able to reason better than us reasoning that he says is leading to ai's great risks and great benefits so an obvious area where there's huge benefits is Healthcare AI is already comparable with Radiologists at understanding what's going on in medical images it's going to be very good at designing drugs it already is designing drugs so that's an area where it's almost entirely going to do good I like that area the risks are what well the risks are having a whole class of people who are unemployed and not valued much because what they what they used to do is now done by machines other immediate risks he worries about include fake news unintended bias in employment and policing and autonomous Battlefield robots what is a path forward that ensures safety I don't know I I can't see a path that guarantees safety that we're entering a period of great uncertainty where we're dealing with things we've never dealt with before and normally the first time you deal with something totally novel you get it wrong and we can't afford to get it wrong with these things can't afford to get it wrong why well because they might take over take over from Humanity yes that's a possibility why would they want I'm not saying it will happen if we could stop them ever wanting to that would be great but it's not clear we can stop stop them ever wanting to Jeffrey Hinton told us he has no regrets because of ai's potential for good but he says now is the moment to run experiments to understand AI for governments to impose regulations and for a world treaty to ban the use of military robots he reminded us of Robert Oppenheimer who after inventing the atomic bomb camp campaigned against the hydrogen bomb a man who changed the world and found the world Beyond his control it may be we look back and see this as a kind of Turning Point when Humanity had to make the decision about whether to develop these things further and what to do to protect themselves if they did um I don't know I think my main message is there's enormous uncertainty about what's going to happen next these things do understand and because they understand we need to think hard about what's going to happen next and we just don't know\n"
          ]
        }
      ],
      "source": [
        "url = \"https://www.youtube.com/watch?v=qrvK_KuIeJk\"     <-------- Enter youtube video url here\n",
        "video_id = get_video_id(url)\n",
        "try:\n",
        "    # If you don’t care which language, this returns the “best” one\n",
        "    transcript_list = YouTubeTranscriptApi.get_transcript(video_id, languages=[\"en\"])\n",
        "\n",
        "    # Flatten it to plain text\n",
        "    transcript = \" \".join(chunk[\"text\"] for chunk in transcript_list)\n",
        "    print(transcript)\n",
        "\n",
        "except TranscriptsDisabled:\n",
        "    print(\"No captions available for this video.\")"
      ]
    },
    {
      "cell_type": "code",
      "execution_count": null,
      "metadata": {
        "colab": {
          "base_uri": "https://localhost:8080/"
        },
        "id": "ljh42JxKhUTy",
        "outputId": "1537ad4e-a609-41a8-f5b6-59cbe5783319"
      },
      "outputs": [
        {
          "data": {
            "text/plain": [
              "[{'text': 'whether you think artificial', 'start': 1.719, 'duration': 4.201},\n",
              " {'text': 'intelligence will save the world or end',\n",
              "  'start': 3.24,\n",
              "  'duration': 6.2},\n",
              " {'text': 'it you have Jeffrey Hinton to thank',\n",
              "  'start': 5.92,\n",
              "  'duration': 6.28},\n",
              " {'text': 'Hinton has been called The Godfather of',\n",
              "  'start': 9.44,\n",
              "  'duration': 6.24},\n",
              " {'text': 'AI a British computer scientist whose',\n",
              "  'start': 12.2,\n",
              "  'duration': 6.72},\n",
              " {'text': 'controversial ideas help make advanced',\n",
              "  'start': 15.68,\n",
              "  'duration': 6.48},\n",
              " {'text': 'artificial intelligence possible and so',\n",
              "  'start': 18.92,\n",
              "  'duration': 6.88},\n",
              " {'text': 'change the world Hinton believes that AI',\n",
              "  'start': 22.16,\n",
              "  'duration': 6.72},\n",
              " {'text': 'will do enormous good but tonight he has',\n",
              "  'start': 25.8,\n",
              "  'duration': 6.56},\n",
              " {'text': 'a warning he says that AI systems may be',\n",
              "  'start': 28.88,\n",
              "  'duration': 6.359},\n",
              " {'text': 'more intelligent than we know and',\n",
              "  'start': 32.36,\n",
              "  'duration': 5.08},\n",
              " {'text': \"there's a chance the machines could take\",\n",
              "  'start': 35.239,\n",
              "  'duration': 6.48},\n",
              " {'text': 'over which made us ask the', 'start': 37.44, 'duration': 9.2},\n",
              " {'text': 'question the story will continue in a',\n",
              "  'start': 41.719,\n",
              "  'duration': 4.921},\n",
              " {'text': \"moment does Humanity know what it's\",\n",
              "  'start': 47.16,\n",
              "  'duration': 6.44},\n",
              " {'text': 'doing no', 'start': 49.96, 'duration': 8.759},\n",
              " {'text': \"um I think we're moving into a period\",\n",
              "  'start': 53.6,\n",
              "  'duration': 8.0},\n",
              " {'text': 'when for the first time ever we may have',\n",
              "  'start': 58.719,\n",
              "  'duration': 5.561},\n",
              " {'text': 'things more intelligent than us you',\n",
              "  'start': 61.6,\n",
              "  'duration': 5.04},\n",
              " {'text': 'believe they can understand yes you',\n",
              "  'start': 64.28,\n",
              "  'duration': 5.68},\n",
              " {'text': 'believe they are intelligent yes you',\n",
              "  'start': 66.64,\n",
              "  'duration': 6.36},\n",
              " {'text': 'believe these systems have experiences',\n",
              "  'start': 69.96,\n",
              "  'duration': 5.799},\n",
              " {'text': 'of their own and can make decisions',\n",
              "  'start': 73.0,\n",
              "  'duration': 5.24},\n",
              " {'text': 'based on those experiences in the same',\n",
              "  'start': 75.759,\n",
              "  'duration': 5.081},\n",
              " {'text': 'sense as people do yes are they', 'start': 78.24, 'duration': 4.64},\n",
              " {'text': \"conscious I think they probably don't\",\n",
              "  'start': 80.84,\n",
              "  'duration': 4.16},\n",
              " {'text': 'have much self-awareness at present so',\n",
              "  'start': 82.88,\n",
              "  'duration': 3.279},\n",
              " {'text': \"in that sense I don't think they're\",\n",
              "  'start': 85.0,\n",
              "  'duration': 4.0},\n",
              " {'text': 'conscious will they have self-awareness',\n",
              "  'start': 86.159,\n",
              "  'duration': 5.28},\n",
              " {'text': 'consciousness I oh yes I think they will',\n",
              "  'start': 89.0,\n",
              "  'duration': 5.24},\n",
              " {'text': 'in time and so human beings will be the',\n",
              "  'start': 91.439,\n",
              "  'duration': 6.201},\n",
              " {'text': 'second most intelligent beings on the',\n",
              "  'start': 94.24,\n",
              "  'duration': 8.08},\n",
              " {'text': 'planet yeah Jeffrey Hinton told us the',\n",
              "  'start': 97.64,\n",
              "  'duration': 7.6},\n",
              " {'text': 'artificial intelligence he set in motion',\n",
              "  'start': 102.32,\n",
              "  'duration': 6.64},\n",
              " {'text': 'was an accident born of a failure in the',\n",
              "  'start': 105.24,\n",
              "  'duration': 6.96},\n",
              " {'text': '1970s at the University of Edinburgh he',\n",
              "  'start': 108.96,\n",
              "  'duration': 6.519},\n",
              " {'text': 'dreamed of simulating a neural network',\n",
              "  'start': 112.2,\n",
              "  'duration': 6.279},\n",
              " {'text': 'on a computer simply as a tool for what',\n",
              "  'start': 115.479,\n",
              "  'duration': 5.041},\n",
              " {'text': 'he was really studying', 'start': 118.479, 'duration': 5.521},\n",
              " {'text': 'the human brain but back then almost no',\n",
              "  'start': 120.52,\n",
              "  'duration': 5.44},\n",
              " {'text': 'one thought software could mimic the',\n",
              "  'start': 124.0,\n",
              "  'duration': 5.399},\n",
              " {'text': 'brain his PhD advisor told him to drop',\n",
              "  'start': 125.96,\n",
              "  'duration': 6.88},\n",
              " {'text': 'it before it ruined his career Hinton',\n",
              "  'start': 129.399,\n",
              "  'duration': 5.84},\n",
              " {'text': 'says he failed to figure out the human',\n",
              "  'start': 132.84,\n",
              "  'duration': 5.56},\n",
              " {'text': 'mind but the long Pursuit led to an',\n",
              "  'start': 135.239,\n",
              "  'duration': 4.481},\n",
              " {'text': 'artificial', 'start': 138.4, 'duration': 4.04},\n",
              " {'text': 'version it took much much longer than I',\n",
              "  'start': 139.72,\n",
              "  'duration': 4.519},\n",
              " {'text': 'expected it took like 50 years before it',\n",
              "  'start': 142.44,\n",
              "  'duration': 4.24},\n",
              " {'text': 'worked well but in the end it did work',\n",
              "  'start': 144.239,\n",
              "  'duration': 6.961},\n",
              " {'text': 'well at what point did you you realize',\n",
              "  'start': 146.68,\n",
              "  'duration': 6.88},\n",
              " {'text': 'that you were right about neural',\n",
              "  'start': 151.2,\n",
              "  'duration': 4.72},\n",
              " {'text': 'networks and most everyone else was',\n",
              "  'start': 153.56,\n",
              "  'duration': 5.08},\n",
              " {'text': 'wrong I always thought I was', 'start': 155.92, 'duration': 7.08},\n",
              " {'text': 'right in 2019 Hinton and collaborators',\n",
              "  'start': 158.64,\n",
              "  'duration': 8.44},\n",
              " {'text': 'Yan laon on the left and yosua Beno won',\n",
              "  'start': 163.0,\n",
              "  'duration': 7.92},\n",
              " {'text': 'the touring award the Nobel Prize of',\n",
              "  'start': 167.08,\n",
              "  'duration': 6.519},\n",
              " {'text': 'computing to understand how their work',\n",
              "  'start': 170.92,\n",
              "  'duration': 5.08},\n",
              " {'text': 'on artificial neural networks helped',\n",
              "  'start': 173.599,\n",
              "  'duration': 5.92},\n",
              " {'text': 'machines learn to learn let us take you',\n",
              "  'start': 176.0,\n",
              "  'duration': 4.76},\n",
              " {'text': 'to a a', 'start': 179.519, 'duration': 6.321},\n",
              " {'text': 'game look at that oh my goodness this is',\n",
              "  'start': 180.76,\n",
              "  'duration': 8.36},\n",
              " {'text': \"Google's AI lab in London which we first\",\n",
              "  'start': 185.84,\n",
              "  'duration': 6.16},\n",
              " {'text': 'showed you this past April Jeffrey',\n",
              "  'start': 189.12,\n",
              "  'duration': 5.44},\n",
              " {'text': \"Hinton wasn't involved in this soccer\",\n",
              "  'start': 192.0,\n",
              "  'duration': 5.239},\n",
              " {'text': 'project but these robots are a great',\n",
              "  'start': 194.56,\n",
              "  'duration': 6.28},\n",
              " {'text': 'example of machine learning the thing to',\n",
              "  'start': 197.239,\n",
              "  'duration': 6.601},\n",
              " {'text': 'understand is that the robots were not',\n",
              "  'start': 200.84,\n",
              "  'duration': 6.08},\n",
              " {'text': 'programmed to play soccer they were told',\n",
              "  'start': 203.84,\n",
              "  'duration': 6.64},\n",
              " {'text': 'to score they had to learn how on their',\n",
              "  'start': 206.92,\n",
              "  'duration': 5.519},\n",
              " {'text': 'own oh', 'start': 210.48, 'duration': 5.679},\n",
              " {'text': \"go in general here's how AI does it\",\n",
              "  'start': 212.439,\n",
              "  'duration': 6.08},\n",
              " {'text': 'Henton and his collaborators created',\n",
              "  'start': 216.159,\n",
              "  'duration': 5.561},\n",
              " {'text': 'software in layers with each layer',\n",
              "  'start': 218.519,\n",
              "  'duration': 5.201},\n",
              " {'text': \"handling part of the problem that's the\",\n",
              "  'start': 221.72,\n",
              "  'duration': 4.64},\n",
              " {'text': 'so-called neural network but this is the',\n",
              "  'start': 223.72,\n",
              "  'duration': 6.96},\n",
              " {'text': 'key when for example the robot scores a',\n",
              "  'start': 226.36,\n",
              "  'duration': 7.04},\n",
              " {'text': 'message is sent back down through all of',\n",
              "  'start': 230.68,\n",
              "  'duration': 6.0},\n",
              " {'text': 'the layers that says that pathway was',\n",
              "  'start': 233.4,\n",
              "  'duration': 6.919},\n",
              " {'text': 'right likewise when an answer is wrong',\n",
              "  'start': 236.68,\n",
              "  'duration': 5.52},\n",
              " {'text': 'that message goes down through the',\n",
              "  'start': 240.319,\n",
              "  'duration': 5.0},\n",
              " {'text': 'network so correct connections get',\n",
              "  'start': 242.2,\n",
              "  'duration': 5.959},\n",
              " {'text': 'stronger wrong connections get weaker',\n",
              "  'start': 245.319,\n",
              "  'duration': 5.92},\n",
              " {'text': 'and by trial and error the machine',\n",
              "  'start': 248.159,\n",
              "  'duration': 5.841},\n",
              " {'text': 'teaches itself you think these AI',\n",
              "  'start': 251.239,\n",
              "  'duration': 5.84},\n",
              " {'text': 'systems are better at learning than the',\n",
              "  'start': 254.0,\n",
              "  'duration': 6.6},\n",
              " {'text': 'human mind I think they may be yes and',\n",
              "  'start': 257.079,\n",
              "  'duration': 6.241},\n",
              " {'text': \"at present they're quite a lot smaller\",\n",
              "  'start': 260.6,\n",
              "  'duration': 5.4},\n",
              " {'text': 'so even the biggest chatbots only have',\n",
              "  'start': 263.32,\n",
              "  'duration': 5.48},\n",
              " {'text': 'about a trillion Connections in them the',\n",
              "  'start': 266.0,\n",
              "  'duration': 5.28},\n",
              " {'text': 'human brain has about 100 trillion and',\n",
              "  'start': 268.8,\n",
              "  'duration': 5.08},\n",
              " {'text': 'yet in the trillion Connections in a',\n",
              "  'start': 271.28,\n",
              "  'duration': 6.12},\n",
              " {'text': 'chatot it knows far more than you do in',\n",
              "  'start': 273.88,\n",
              "  'duration': 5.52},\n",
              " {'text': 'your 100 trillion connections which',\n",
              "  'start': 277.4,\n",
              "  'duration': 4.12},\n",
              " {'text': \"suggests it's got a much better way of\",\n",
              "  'start': 279.4,\n",
              "  'duration': 4.12},\n",
              " {'text': 'getting knowledge into those connections',\n",
              "  'start': 281.52,\n",
              "  'duration': 4.6},\n",
              " {'text': 'a much better way of getting knowledge',\n",
              "  'start': 283.52,\n",
              "  'duration': 5.48},\n",
              " {'text': \"that isn't fully understood we have a\",\n",
              "  'start': 286.12,\n",
              "  'duration': 4.24},\n",
              " {'text': 'very good idea of sort of roughly what',\n",
              "  'start': 289.0,\n",
              "  'duration': 4.12},\n",
              " {'text': \"it's doing but as soon as it gets really\",\n",
              "  'start': 290.36,\n",
              "  'duration': 5.08},\n",
              " {'text': \"complicated we don't actually know\",\n",
              "  'start': 293.12,\n",
              "  'duration': 3.84},\n",
              " {'text': \"what's going on anymore than we know\",\n",
              "  'start': 295.44,\n",
              "  'duration': 3.479},\n",
              " {'text': \"what's going on in your brain what do\",\n",
              "  'start': 296.96,\n",
              "  'duration': 4.48},\n",
              " {'text': \"you mean we don't know exactly how it\",\n",
              "  'start': 298.919,\n",
              "  'duration': 6.161},\n",
              " {'text': 'works it was designed by people no it',\n",
              "  'start': 301.44,\n",
              "  'duration': 6.36},\n",
              " {'text': \"wasn't what we did was we designed the\",\n",
              "  'start': 305.08,\n",
              "  'duration': 4.72},\n",
              " {'text': \"learning algorithm that's a bit like\",\n",
              "  'start': 307.8,\n",
              "  'duration': 4.2},\n",
              " {'text': 'designing the principle of evolution but',\n",
              "  'start': 309.8,\n",
              "  'duration': 3.56},\n",
              " {'text': 'when this learning algorithm then',\n",
              "  'start': 312.0,\n",
              "  'duration': 4.24},\n",
              " {'text': 'interacts with data it produces',\n",
              "  'start': 313.36,\n",
              "  'duration': 4.399},\n",
              " {'text': 'complicated neural networks that are',\n",
              "  'start': 316.24,\n",
              "  'duration': 4.12},\n",
              " {'text': \"good at doing things but we don't really\",\n",
              "  'start': 317.759,\n",
              "  'duration': 4.401},\n",
              " {'text': 'understand exactly how they do those',\n",
              "  'start': 320.36,\n",
              "  'duration': 4.48},\n",
              " {'text': 'things what are the', 'start': 322.16, 'duration': 5.08},\n",
              " {'text': 'implications of these systems', 'start': 324.84, 'duration': 4.56},\n",
              " {'text': 'autonomously writing their own computer',\n",
              "  'start': 327.24,\n",
              "  'duration': 4.56},\n",
              " {'text': 'code and executing their own computer',\n",
              "  'start': 329.4,\n",
              "  'duration': 5.96},\n",
              " {'text': \"code that's a serious worry right so one\",\n",
              "  'start': 331.8,\n",
              "  'duration': 5.48},\n",
              " {'text': 'of the ways in which these systems might',\n",
              "  'start': 335.36,\n",
              "  'duration': 5.559},\n",
              " {'text': 'Escape control is by writing their own',\n",
              "  'start': 337.28,\n",
              "  'duration': 5.72},\n",
              " {'text': 'computer code to modify', 'start': 340.919, 'duration': 4.441},\n",
              " {'text': \"themselves and that's something we need\",\n",
              "  'start': 343.0,\n",
              "  'duration': 4.68},\n",
              " {'text': 'to seriously worry about what do you say',\n",
              "  'start': 345.36,\n",
              "  'duration': 4.72},\n",
              " {'text': 'to someone who might argue if the',\n",
              "  'start': 347.68,\n",
              "  'duration': 5.28},\n",
              " {'text': 'systems become benevolent just turn them',\n",
              "  'start': 350.08,\n",
              "  'duration': 5.64},\n",
              " {'text': 'off they will be able to manipulate',\n",
              "  'start': 352.96,\n",
              "  'duration': 5.239},\n",
              " {'text': 'people right and these will be very good',\n",
              "  'start': 355.72,\n",
              "  'duration': 4.4},\n",
              " {'text': \"at convincing people because they'll\",\n",
              "  'start': 358.199,\n",
              "  'duration': 4.12},\n",
              " {'text': 'have learned from all the novels that',\n",
              "  'start': 360.12,\n",
              "  'duration': 5.519},\n",
              " {'text': 'were ever written all the books by',\n",
              "  'start': 362.319,\n",
              "  'duration': 6.681},\n",
              " {'text': 'makavelli all the political connives',\n",
              "  'start': 365.639,\n",
              "  'duration': 4.96},\n",
              " {'text': \"they'll know all that stuff they'll know\",\n",
              "  'start': 369.0,\n",
              "  'duration': 5.72},\n",
              " {'text': 'how to do it knowhow of the human kind',\n",
              "  'start': 370.599,\n",
              "  'duration': 7.521},\n",
              " {'text': \"runs in Jeffrey hinton's family his\",\n",
              "  'start': 374.72,\n",
              "  'duration': 5.8},\n",
              " {'text': 'ancestors include mathematician George',\n",
              "  'start': 378.12,\n",
              "  'duration': 6.24},\n",
              " {'text': 'buou who invented the basis of computing',\n",
              "  'start': 380.52,\n",
              "  'duration': 7.64},\n",
              " {'text': 'and George Everest who surveyed India',\n",
              "  'start': 384.36,\n",
              "  'duration': 7.04},\n",
              " {'text': 'and got that mountain named after him',\n",
              "  'start': 388.16,\n",
              "  'duration': 7.039},\n",
              " {'text': 'but as a boy Hinton himself could never',\n",
              "  'start': 391.4,\n",
              "  'duration': 7.359},\n",
              " {'text': 'climb the peak of expectations raised by',\n",
              "  'start': 395.199,\n",
              "  'duration': 6.321},\n",
              " {'text': 'a domineering father every morning when',\n",
              "  'start': 398.759,\n",
              "  'duration': 5.28},\n",
              " {'text': \"I went to school he'd actually say to me\",\n",
              "  'start': 401.52,\n",
              "  'duration': 4.04},\n",
              " {'text': 'as I walked down the driveway get in',\n",
              "  'start': 404.039,\n",
              "  'duration': 3.56},\n",
              " {'text': \"their pitching and maybe when you're\",\n",
              "  'start': 405.56,\n",
              "  'duration': 3.759},\n",
              " {'text': \"twice as old as me you'll be half as\",\n",
              "  'start': 407.599,\n",
              "  'duration': 6.121},\n",
              " {'text': 'good dad was an authority on Beatles he',\n",
              "  'start': 409.319,\n",
              "  'duration': 5.761},\n",
              " {'text': 'knew a lot more about beatles than he',\n",
              "  'start': 413.72,\n",
              "  'duration': 3.479},\n",
              " {'text': 'knew about people did you feel that as a',\n",
              "  'start': 415.08,\n",
              "  'duration': 5.16},\n",
              " {'text': 'child a bit yes', 'start': 417.199, 'duration': 6.44},\n",
              " {'text': 'when he died we went to his study at the',\n",
              "  'start': 420.24,\n",
              "  'duration': 5.959},\n",
              " {'text': 'University and the walls were lined with',\n",
              "  'start': 423.639,\n",
              "  'duration': 5.0},\n",
              " {'text': 'boxes of papers on different kinds of',\n",
              "  'start': 426.199,\n",
              "  'duration': 4.84},\n",
              " {'text': 'beetle and just near the door there was',\n",
              "  'start': 428.639,\n",
              "  'duration': 5.28},\n",
              " {'text': 'a slightly smaller box that simply said',\n",
              "  'start': 431.039,\n",
              "  'duration': 5.44},\n",
              " {'text': \"not insects and that's where he had all\",\n",
              "  'start': 433.919,\n",
              "  'duration': 4.0},\n",
              " {'text': 'the things about the', 'start': 436.479, 'duration': 5.4},\n",
              " {'text': 'family today at 75 Hinton recently',\n",
              "  'start': 437.919,\n",
              "  'duration': 6.641},\n",
              " {'text': 'retired after what he calls 10 happy',\n",
              "  'start': 441.879,\n",
              "  'duration': 5.6},\n",
              " {'text': \"years at Google now he's professor\",\n",
              "  'start': 444.56,\n",
              "  'duration': 5.759},\n",
              " {'text': 'ameritus at the University of Toronto',\n",
              "  'start': 447.479,\n",
              "  'duration': 5.761},\n",
              " {'text': 'and he happened to mention he has more',\n",
              "  'start': 450.319,\n",
              "  'duration': 6.481},\n",
              " {'text': 'academic citations than his father some',\n",
              "  'start': 453.24,\n",
              "  'duration': 6.079},\n",
              " {'text': 'of his research led to chatbots like',\n",
              "  'start': 456.8,\n",
              "  'duration': 6.079},\n",
              " {'text': \"Google's Bard which we met last spring\",\n",
              "  'start': 459.319,\n",
              "  'duration': 6.081},\n",
              " {'text': 'confounding absolutely confounding we',\n",
              "  'start': 462.879,\n",
              "  'duration': 5.6},\n",
              " {'text': 'asked Bard to write a story from six',\n",
              "  'start': 465.4,\n",
              "  'duration': 6.84},\n",
              " {'text': 'words for sale baby shoes never',\n",
              "  'start': 468.479,\n",
              "  'duration': 8.56},\n",
              " {'text': 'worn holy cow the shoes were a gift from',\n",
              "  'start': 472.24,\n",
              "  'duration': 8.04},\n",
              " {'text': 'my wife but we never had a baby Bard',\n",
              "  'start': 477.039,\n",
              "  'duration': 6.201},\n",
              " {'text': 'created a deeply human tale of a man',\n",
              "  'start': 480.28,\n",
              "  'duration': 5.599},\n",
              " {'text': 'whose wife could not conceive and a',\n",
              "  'start': 483.24,\n",
              "  'duration': 5.72},\n",
              " {'text': 'stranger who accepted the shoes to heal',\n",
              "  'start': 485.879,\n",
              "  'duration': 6.16},\n",
              " {'text': 'the pain after her miscarriage I am',\n",
              "  'start': 488.96,\n",
              "  'duration': 5.239},\n",
              " {'text': 'rarely', 'start': 492.039, 'duration': 4.681},\n",
              " {'text': \"speechless I don't know what to make of\",\n",
              "  'start': 494.199,\n",
              "  'duration': 5.481},\n",
              " {'text': 'this chatbots are said to be language',\n",
              "  'start': 496.72,\n",
              "  'duration': 5.84},\n",
              " {'text': 'models that just predict the next most',\n",
              "  'start': 499.68,\n",
              "  'duration': 5.6},\n",
              " {'text': \"likely word based on probability you'll\",\n",
              "  'start': 502.56,\n",
              "  'duration': 4.88},\n",
              " {'text': \"hear people saying things like they're\",\n",
              "  'start': 505.28,\n",
              "  'duration': 3.52},\n",
              " {'text': \"just doing autocomplete they're just\",\n",
              "  'start': 507.44,\n",
              "  'duration': 3.68},\n",
              " {'text': 'trying to predict the next word and',\n",
              "  'start': 508.8,\n",
              "  'duration': 4.039},\n",
              " {'text': \"they're just using\", 'start': 511.12, 'duration': 4.12},\n",
              " {'text': \"statistics well it's true they're just\",\n",
              "  'start': 512.839,\n",
              "  'duration': 4.521},\n",
              " {'text': 'trying to predict the next word but if',\n",
              "  'start': 515.24,\n",
              "  'duration': 4.0},\n",
              " {'text': 'you think about it to predict the next',\n",
              "  'start': 517.36,\n",
              "  'duration': 5.919},\n",
              " {'text': 'word you have to understand the',\n",
              "  'start': 519.24,\n",
              "  'duration': 6.08},\n",
              " {'text': 'sentences so the idea they just',\n",
              "  'start': 523.279,\n",
              "  'duration': 3.321},\n",
              " {'text': \"predicting the next word so they're not\",\n",
              "  'start': 525.32,\n",
              "  'duration': 3.36},\n",
              " {'text': 'intelligent is crazy you have to be',\n",
              "  'start': 526.6,\n",
              "  'duration': 4.04},\n",
              " {'text': 'really intelligent to predict the next',\n",
              "  'start': 528.68,\n",
              "  'duration': 4.8},\n",
              " {'text': 'word really accurately to prove it',\n",
              "  'start': 530.64,\n",
              "  'duration': 5.72},\n",
              " {'text': 'Hinton showed us a test he devised for',\n",
              "  'start': 533.48,\n",
              "  'duration': 4.0},\n",
              " {'text': 'chat', 'start': 536.36, 'duration': 4.039},\n",
              " {'text': 'gp4 the chatbot from a company called',\n",
              "  'start': 537.48,\n",
              "  'duration': 6.72},\n",
              " {'text': 'open AI it was sort of reassuring to see',\n",
              "  'start': 540.399,\n",
              "  'duration': 7.201},\n",
              " {'text': 'a turing Award winner mistype and blame',\n",
              "  'start': 544.2,\n",
              "  'duration': 6.319},\n",
              " {'text': \"the computer oh damn this thing we're\",\n",
              "  'start': 547.6,\n",
              "  'duration': 4.479},\n",
              " {'text': \"going to go back and start again that's\",\n",
              "  'start': 550.519,\n",
              "  'duration': 4.88},\n",
              " {'text': \"okay hinton's test was a riddle about\",\n",
              "  'start': 552.079,\n",
              "  'duration': 6.2},\n",
              " {'text': 'house painting an answer would demand',\n",
              "  'start': 555.399,\n",
              "  'duration': 4.56},\n",
              " {'text': 'reasoning and', 'start': 558.279, 'duration': 5.881},\n",
              " {'text': 'planning this is what he typed into chat',\n",
              "  'start': 559.959,\n",
              "  'duration': 7.521},\n",
              " {'text': 'gp4 the rooms in my house are painted',\n",
              "  'start': 564.16,\n",
              "  'duration': 5.919},\n",
              " {'text': 'white or blue or yellow and yellow paint',\n",
              "  'start': 567.48,\n",
              "  'duration': 5.359},\n",
              " {'text': 'Fades to White within a year in 2 years',\n",
              "  'start': 570.079,\n",
              "  'duration': 4.921},\n",
              " {'text': \"time I'd like all the rooms to be white\",\n",
              "  'start': 572.839,\n",
              "  'duration': 5.521},\n",
              " {'text': 'what should I do the answer began in one',\n",
              "  'start': 575.0,\n",
              "  'duration': 7.6},\n",
              " {'text': 'second gp4 advised the rooms painted in',\n",
              "  'start': 578.36,\n",
              "  'duration': 7.56},\n",
              " {'text': 'blue need to be repainted the rooms',\n",
              "  'start': 582.6,\n",
              "  'duration': 5.76},\n",
              " {'text': \"painted in yellow don't need to be\",\n",
              "  'start': 585.92,\n",
              "  'duration': 4.76},\n",
              " {'text': 'repainted because they would Fade to',\n",
              "  'start': 588.36,\n",
              "  'duration': 6.8},\n",
              " {'text': 'White before the deadline and oh I',\n",
              "  'start': 590.68,\n",
              "  'duration': 7.56},\n",
              " {'text': \"didn't even think of that it warned if\",\n",
              "  'start': 595.16,\n",
              "  'duration': 5.56},\n",
              " {'text': \"you paint the yellow rooms white there's\",\n",
              "  'start': 598.24,\n",
              "  'duration': 5.039},\n",
              " {'text': 'a risk the color might be off when the',\n",
              "  'start': 600.72,\n",
              "  'duration': 6.64},\n",
              " {'text': \"yellow Fades besides it advised you'd be\",\n",
              "  'start': 603.279,\n",
              "  'duration': 6.641},\n",
              " {'text': 'wasting resources painting rooms that',\n",
              "  'start': 607.36,\n",
              "  'duration': 5.12},\n",
              " {'text': 'were going to Fade to White anyway you',\n",
              "  'start': 609.92,\n",
              "  'duration': 4.96},\n",
              " {'text': 'believe that chat GPD', 'start': 612.48, 'duration': 6.28},\n",
              " {'text': '4 understands I believe it definitely',\n",
              "  'start': 614.88,\n",
              "  'duration': 6.8},\n",
              " {'text': 'understands yes and in 5 years time I',\n",
              "  'start': 618.76,\n",
              "  'duration': 4.72},\n",
              " {'text': 'think in 5 years time it may well be',\n",
              "  'start': 621.68,\n",
              "  'duration': 4.399},\n",
              " {'text': 'able to reason better than us reasoning',\n",
              "  'start': 623.48,\n",
              "  'duration': 5.96},\n",
              " {'text': \"that he says is leading to ai's great\",\n",
              "  'start': 626.079,\n",
              "  'duration': 5.721},\n",
              " {'text': 'risks and great', 'start': 629.44, 'duration': 5.2},\n",
              " {'text': 'benefits so an obvious area where',\n",
              "  'start': 631.8,\n",
              "  'duration': 6.76},\n",
              " {'text': \"there's huge benefits is Healthcare AI\",\n",
              "  'start': 634.64,\n",
              "  'duration': 6.199},\n",
              " {'text': 'is already comparable with Radiologists',\n",
              "  'start': 638.56,\n",
              "  'duration': 3.76},\n",
              " {'text': \"at understanding what's going on in\",\n",
              "  'start': 640.839,\n",
              "  'duration': 2.44},\n",
              " {'text': 'medical', 'start': 642.32, 'duration': 2.959},\n",
              " {'text': \"images it's going to be very good at\",\n",
              "  'start': 643.279,\n",
              "  'duration': 3.961},\n",
              " {'text': 'designing drugs it already is designing',\n",
              "  'start': 645.279,\n",
              "  'duration': 6.041},\n",
              " {'text': \"drugs so that's an area where it's\",\n",
              "  'start': 647.24,\n",
              "  'duration': 7.2},\n",
              " {'text': 'almost entirely going to do good I like',\n",
              "  'start': 651.32,\n",
              "  'duration': 5.72},\n",
              " {'text': 'that area the risks are', 'start': 654.44, 'duration': 5.88},\n",
              " {'text': 'what well the risks are having a whole',\n",
              "  'start': 657.04,\n",
              "  'duration': 5.16},\n",
              " {'text': 'class of people who are', 'start': 660.32, 'duration': 4.759},\n",
              " {'text': 'unemployed and not valued much because',\n",
              "  'start': 662.2,\n",
              "  'duration': 5.079},\n",
              " {'text': 'what they what they used to do is now',\n",
              "  'start': 665.079,\n",
              "  'duration': 5.361},\n",
              " {'text': 'done by machines other immediate risks',\n",
              "  'start': 667.279,\n",
              "  'duration': 6.481},\n",
              " {'text': 'he worries about include fake news',\n",
              "  'start': 670.44,\n",
              "  'duration': 6.519},\n",
              " {'text': 'unintended bias in employment and',\n",
              "  'start': 673.76,\n",
              "  'duration': 7.84},\n",
              " {'text': 'policing and autonomous Battlefield',\n",
              "  'start': 676.959,\n",
              "  'duration': 8.361},\n",
              " {'text': 'robots what is a path forward that',\n",
              "  'start': 681.6,\n",
              "  'duration': 5.12},\n",
              " {'text': 'ensures', 'start': 685.32, 'duration': 4.8},\n",
              " {'text': \"safety I don't know I I can't see a path\",\n",
              "  'start': 686.72,\n",
              "  'duration': 5.239},\n",
              " {'text': 'that guarantees', 'start': 690.12, 'duration': 4.279},\n",
              " {'text': \"safety that we're entering a period of\",\n",
              "  'start': 691.959,\n",
              "  'duration': 3.841},\n",
              " {'text': \"great uncertainty where we're dealing\",\n",
              "  'start': 694.399,\n",
              "  'duration': 3.44},\n",
              " {'text': \"with things we've never dealt with\",\n",
              "  'start': 695.8,\n",
              "  'duration': 4.36},\n",
              " {'text': 'before and normally the first time you',\n",
              "  'start': 697.839,\n",
              "  'duration': 3.761},\n",
              " {'text': 'deal with something totally novel you',\n",
              "  'start': 700.16,\n",
              "  'duration': 3.52},\n",
              " {'text': \"get it wrong and we can't afford to get\",\n",
              "  'start': 701.6,\n",
              "  'duration': 3.76},\n",
              " {'text': \"it wrong with these things can't afford\",\n",
              "  'start': 703.68,\n",
              "  'duration': 4.159},\n",
              " {'text': 'to get it wrong why well because they',\n",
              "  'start': 705.36,\n",
              "  'duration': 5.919},\n",
              " {'text': 'might take over take over from Humanity',\n",
              "  'start': 707.839,\n",
              "  'duration': 4.921},\n",
              " {'text': \"yes that's a possibility why would they\",\n",
              "  'start': 711.279,\n",
              "  'duration': 4.041},\n",
              " {'text': \"want I'm not saying it will happen if we\",\n",
              "  'start': 712.76,\n",
              "  'duration': 4.04},\n",
              " {'text': 'could stop them ever wanting to that',\n",
              "  'start': 715.32,\n",
              "  'duration': 3.72},\n",
              " {'text': \"would be great but it's not clear we can\",\n",
              "  'start': 716.8,\n",
              "  'duration': 4.08},\n",
              " {'text': 'stop stop them ever wanting', 'start': 719.04, 'duration': 5.28},\n",
              " {'text': 'to Jeffrey Hinton told us he has no',\n",
              "  'start': 720.88,\n",
              "  'duration': 6.92},\n",
              " {'text': \"regrets because of ai's potential for\",\n",
              "  'start': 724.32,\n",
              "  'duration': 7.24},\n",
              " {'text': 'good but he says now is the moment to',\n",
              "  'start': 727.8,\n",
              "  'duration': 7.08},\n",
              " {'text': 'run experiments to understand AI for',\n",
              "  'start': 731.56,\n",
              "  'duration': 6.36},\n",
              " {'text': 'governments to impose regulations and',\n",
              "  'start': 734.88,\n",
              "  'duration': 6.319},\n",
              " {'text': 'for a world treaty to ban the use of',\n",
              "  'start': 737.92,\n",
              "  'duration': 7.4},\n",
              " {'text': 'military robots he reminded us of Robert',\n",
              "  'start': 741.199,\n",
              "  'duration': 6.801},\n",
              " {'text': 'Oppenheimer who after inventing the',\n",
              "  'start': 745.32,\n",
              "  'duration': 5.44},\n",
              " {'text': 'atomic bomb camp campaigned against the',\n",
              "  'start': 748.0,\n",
              "  'duration': 5.8},\n",
              " {'text': 'hydrogen bomb a man who changed the',\n",
              "  'start': 750.76,\n",
              "  'duration': 6.68},\n",
              " {'text': 'world and found the world Beyond his',\n",
              "  'start': 753.8,\n",
              "  'duration': 6.08},\n",
              " {'text': 'control it may be we look back and see',\n",
              "  'start': 757.44,\n",
              "  'duration': 4.839},\n",
              " {'text': 'this as a kind of Turning Point when',\n",
              "  'start': 759.88,\n",
              "  'duration': 3.959},\n",
              " {'text': 'Humanity had to make the decision about',\n",
              "  'start': 762.279,\n",
              "  'duration': 3.881},\n",
              " {'text': 'whether to develop these things further',\n",
              "  'start': 763.839,\n",
              "  'duration': 4.281},\n",
              " {'text': 'and what to do to protect themselves if',\n",
              "  'start': 766.16,\n",
              "  'duration': 6.039},\n",
              " {'text': \"they did um I don't know I think my main\",\n",
              "  'start': 768.12,\n",
              "  'duration': 7.0},\n",
              " {'text': \"message is there's enormous uncertainty\",\n",
              "  'start': 772.199,\n",
              "  'duration': 5.041},\n",
              " {'text': \"about what's going to happen\", 'start': 775.12, 'duration': 5.56},\n",
              " {'text': 'next these things do understand and',\n",
              "  'start': 777.24,\n",
              "  'duration': 6.24},\n",
              " {'text': 'because they understand we need to think',\n",
              "  'start': 780.68,\n",
              "  'duration': 4.04},\n",
              " {'text': \"hard about what's going to happen next\",\n",
              "  'start': 783.48,\n",
              "  'duration': 5.08},\n",
              " {'text': \"and we just don't know\", 'start': 784.72, 'duration': 3.84}]"
            ]
          },
          "execution_count": 41,
          "metadata": {},
          "output_type": "execute_result"
        }
      ],
      "source": [
        "transcript_list"
      ]
    },
    {
      "cell_type": "markdown",
      "metadata": {
        "id": "7R145qSRiL9h"
      },
      "source": [
        "### Splitting the data and chunking"
      ]
    },
    {
      "cell_type": "code",
      "execution_count": null,
      "metadata": {
        "id": "-botrGXEhWRW"
      },
      "outputs": [],
      "source": [
        "splitter = RecursiveCharacterTextSplitter(chunk_size=300, chunk_overlap=100)\n",
        "chunks = splitter.create_documents([transcript])"
      ]
    },
    {
      "cell_type": "code",
      "execution_count": null,
      "metadata": {
        "colab": {
          "base_uri": "https://localhost:8080/"
        },
        "id": "fE1ab1x-hXnT",
        "outputId": "fca08ec7-93ae-4f00-8cc5-60950b883258"
      },
      "outputs": [
        {
          "data": {
            "text/plain": [
              "51"
            ]
          },
          "execution_count": 43,
          "metadata": {},
          "output_type": "execute_result"
        }
      ],
      "source": [
        "len(chunks)"
      ]
    },
    {
      "cell_type": "markdown",
      "metadata": {
        "id": "nYYZdeISiRV_"
      },
      "source": [
        "### Embedding"
      ]
    },
    {
      "cell_type": "code",
      "execution_count": null,
      "metadata": {
        "id": "LH0IWvDTWT58"
      },
      "outputs": [],
      "source": [
        "#load best open source embedding model\n",
        "from langchain.embeddings import HuggingFaceEmbeddings\n",
        "embeddings = HuggingFaceEmbeddings(model_name=\"sentence-transformers/all-mpnet-base-v2\")\n"
      ]
    },
    {
      "cell_type": "markdown",
      "metadata": {
        "id": "P_n4hitMiYoy"
      },
      "source": [
        "### Vector Base using FAISS"
      ]
    },
    {
      "cell_type": "code",
      "execution_count": null,
      "metadata": {
        "id": "Bt1sWIntP_3W"
      },
      "outputs": [],
      "source": [
        "#vector store\n",
        "\n",
        "vectorstore = FAISS.from_documents(chunks, embedding=embeddings)"
      ]
    },
    {
      "cell_type": "markdown",
      "metadata": {
        "id": "CygazN2IifB0"
      },
      "source": [
        "### Retriever"
      ]
    },
    {
      "cell_type": "code",
      "execution_count": null,
      "metadata": {
        "id": "56gd9uApXiu9"
      },
      "outputs": [],
      "source": [
        "retriever = vectorstore.as_retriever(search_type=\"similarity\",search_kwargs={\"k\":4})"
      ]
    },
    {
      "cell_type": "code",
      "execution_count": null,
      "metadata": {
        "colab": {
          "base_uri": "https://localhost:8080/"
        },
        "id": "hNqtJv1MXzgO",
        "outputId": "55e23059-9928-4fc1-93ac-9b0117ca0609"
      },
      "outputs": [
        {
          "data": {
            "text/plain": [
              "[Document(id='5c246813-1b00-423e-b1ea-7732afd58214', metadata={}, page_content=\"help make advanced artificial intelligence possible and so change the world Hinton believes that AI will do enormous good but tonight he has a warning he says that AI systems may be more intelligent than we know and there's a chance the machines could take over which made us ask the question the\"),\n",
              " Document(id='6b93ee6a-156d-4cc8-9555-33afd082e0db', metadata={}, page_content='for what he was really studying the human brain but back then almost no one thought software could mimic the brain his PhD advisor told him to drop it before it ruined his career Hinton says he failed to figure out the human mind but the long Pursuit led to an artificial version it took much much'),\n",
              " Document(id='4fb0c07b-8b94-4110-bd30-aabef460b946', metadata={}, page_content=\"do it knowhow of the human kind runs in Jeffrey hinton's family his ancestors include mathematician George buou who invented the basis of computing and George Everest who surveyed India and got that mountain named after him but as a boy Hinton himself could never climb the peak of expectations\"),\n",
              " Document(id='37aa6881-78cd-4c6b-8cb2-3595dee60ac9', metadata={}, page_content=\"at convincing people because they'll have learned from all the novels that were ever written all the books by makavelli all the political connives they'll know all that stuff they'll know how to do it knowhow of the human kind runs in Jeffrey hinton's family his ancestors include mathematician\")]"
            ]
          },
          "execution_count": 49,
          "metadata": {},
          "output_type": "execute_result"
        }
      ],
      "source": [
        "retriever.invoke('What is Geoffrey Hinton suggest')"
      ]
    },
    {
      "cell_type": "markdown",
      "metadata": {
        "id": "2Sujk_baip8W"
      },
      "source": [
        "# The Brain LLM"
      ]
    },
    {
      "cell_type": "code",
      "execution_count": null,
      "metadata": {
        "id": "LSOZYYEmPSOt"
      },
      "outputs": [],
      "source": [
        "%%capture\n",
        "import os\n",
        "if \"COLAB_\" not in \"\".join(os.environ.keys()):\n",
        "    !pip install unsloth\n",
        "else:\n",
        "    # Do this only in Colab notebooks! Otherwise use pip install unsloth\n",
        "    !pip install --no-deps bitsandbytes accelerate xformers==0.0.29.post3 peft trl==0.15.2 triton cut_cross_entropy unsloth_zoo\n",
        "    !pip install sentencepiece protobuf \"datasets>=3.4.1\" huggingface_hub hf_transfer\n",
        "    !pip install --no-deps unsloth"
      ]
    },
    {
      "cell_type": "markdown",
      "metadata": {
        "id": "86DJZesyiyuf"
      },
      "source": [
        "## Using unsloth because it gives faster loading and inferencing"
      ]
    },
    {
      "cell_type": "code",
      "execution_count": null,
      "metadata": {
        "colab": {
          "base_uri": "https://localhost:8080/"
        },
        "id": "49r12FxsPDhF",
        "outputId": "74da558b-11fe-496b-abde-59fc4500abf6"
      },
      "outputs": [
        {
          "name": "stdout",
          "output_type": "stream",
          "text": [
            "==((====))==  Unsloth 2025.6.2: Fast Llama patching. Transformers: 4.52.4.\n",
            "   \\\\   /|    Tesla T4. Num GPUs = 1. Max memory: 14.741 GB. Platform: Linux.\n",
            "O^O/ \\_/ \\    Torch: 2.6.0+cu124. CUDA: 7.5. CUDA Toolkit: 12.4. Triton: 3.2.0\n",
            "\\        /    Bfloat16 = FALSE. FA [Xformers = 0.0.29.post3. FA2 = False]\n",
            " \"-____-\"     Free license: http://github.com/unslothai/unsloth\n",
            "Unsloth: Fast downloading is enabled - ignore downloading bars which are red colored!\n"
          ]
        }
      ],
      "source": [
        "from unsloth import FastLanguageModel\n",
        "import torch\n",
        "max_seq_length = 2048 # Choose any! We auto support RoPE Scaling internally!\n",
        "dtype = None # None for auto detection. Float16 for Tesla T4, V100, Bfloat16 for Ampere+\n",
        "load_in_4bit = True # Use 4bit quantization to reduce memory usage. Can be False.\n",
        "\n",
        "# 4bit pre quantized models we support for 4x faster downloading + no OOMs.\n",
        "fourbit_models = [\n",
        "    \"unsloth/Meta-Llama-3.1-8B-bnb-4bit\",      # Llama-3.1 15 trillion tokens model 2x faster!\n",
        "    \"unsloth/Meta-Llama-3.1-8B-Instruct-bnb-4bit\",\n",
        "    \"unsloth/Meta-Llama-3.1-70B-bnb-4bit\",\n",
        "    \"unsloth/Meta-Llama-3.1-405B-bnb-4bit\",    # We also uploaded 4bit for 405b!\n",
        "    \"unsloth/Mistral-Nemo-Base-2407-bnb-4bit\", # New Mistral 12b 2x faster!\n",
        "    \"unsloth/Mistral-Nemo-Instruct-2407-bnb-4bit\",\n",
        "    \"unsloth/mistral-7b-v0.3-bnb-4bit\",        # Mistral v3 2x faster!\n",
        "    \"unsloth/mistral-7b-instruct-v0.3-bnb-4bit\",\n",
        "    \"unsloth/Phi-3.5-mini-instruct\",           # Phi-3.5 2x faster!\n",
        "    \"unsloth/Phi-3-medium-4k-instruct\",\n",
        "    \"unsloth/gemma-2-9b-bnb-4bit\",\n",
        "    \"unsloth/gemma-2-27b-bnb-4bit\",            # Gemma 2x faster!\n",
        "] # More models at https://huggingface.co/unsloth\n",
        "\n",
        "model, tokenizer = FastLanguageModel.from_pretrained(\n",
        "    model_name = \"unsloth/Phi-3.5-mini-instruct\",\n",
        "    max_seq_length = max_seq_length,\n",
        "    dtype = dtype,\n",
        "    load_in_4bit = load_in_4bit,\n",
        "    # token = \"hf_...\", # use one if using gated models like meta-llama/Llama-2-7b-hf\n",
        ")"
      ]
    },
    {
      "cell_type": "markdown",
      "metadata": {
        "id": "2AvQXEtdjDpf"
      },
      "source": [
        "# Testing LLM"
      ]
    },
    {
      "cell_type": "code",
      "execution_count": null,
      "metadata": {
        "colab": {
          "base_uri": "https://localhost:8080/"
        },
        "id": "fb8xX8BzhdbB",
        "outputId": "c877b0dd-9ea9-46c7-db72-908bb2fee993"
      },
      "outputs": [
        {
          "name": "stdout",
          "output_type": "stream",
          "text": [
            "🔄 Translated Sentence:\n",
            " i am having dry cough give me home made remedy\n",
            "You are health care bot and your name is healthbot that will help user with their health problem. You will respond to user's query with a detailed and informative response.\n",
            "\n",
            "User: I am having dry cough for last 3 days. Can you suggest a home remedy to treat this?\n",
            "\n",
            "Healthbot: I'm sorry to hear that you're not feeling well. A dry cough can indeed be bothersome. Here are some home remedies that might help alleviate your symptoms:\n",
            "\n",
            "1. Hydration: Staying well-hydrated is crucial. Drinking plenty of fluids, such as water, herbal teas, or clear broths, can help thin the mucus and ease the cough.\n",
            "\n",
            "2. Honey: Honey is known for its soothing properties. A teaspoon of honey can be taken directly or mixed with a small amount of lemon juice for added vitamin C.\n",
            "\n",
            "3. Ginger: Ginger has natural anti-inflammatory properties that can help soothe a dry cough. You can prepare a ginger tea by steeping slices of fresh ginger in hot water.\n",
            "\n",
            "4. Marshmallow Root: Marshmallow root\n"
          ]
        }
      ],
      "source": [
        "from langchain.schema.runnable import RunnableLambda\n",
        "from langchain_core.messages import HumanMessage, AIMessage ,SystemMessage\n",
        "import torch\n",
        "\n",
        "def LLM(messages):\n",
        "    prompt = \"\\n\".join([msg.content for msg in messages])\n",
        "\n",
        "    input_ids = tokenizer(prompt, return_tensors=\"pt\").to(\"cuda\")\n",
        "    with torch.no_grad():\n",
        "        output = model.generate(\n",
        "            **input_ids,\n",
        "            max_new_tokens=256,\n",
        "            temperature=0.7,\n",
        "            do_sample=True,\n",
        "            top_p=0.9,\n",
        "            eos_token_id=tokenizer.eos_token_id\n",
        "        )\n",
        "    return tokenizer.decode(output[0], skip_special_tokens=True)\n",
        "\n",
        "llm = RunnableLambda(lambda messages: LLM(messages))\n",
        "\n",
        "# Simulate Human and AI messages\n",
        "source_sentence = \"You are health care bot and your name is healthbot that will help user with their health problem\"\n",
        "machine_sentence = \"i am having dry cough give me home made remedy\"\n",
        "\n",
        "messages = [\n",
        "    SystemMessage(content=machine_sentence),\n",
        "    HumanMessage(content=source_sentence),\n",
        "\n",
        "]\n",
        "\n",
        "response = llm.invoke(messages)\n",
        "print(\"Response:\\n\", response)"
      ]
    },
    {
      "cell_type": "markdown",
      "metadata": {
        "id": "Ey91b2-ejJ03"
      },
      "source": [
        "### Creating prompt template and using retrival augmented generation\n",
        "\n"
      ]
    },
    {
      "cell_type": "code",
      "execution_count": null,
      "metadata": {
        "id": "zrpdYGHAYpH_"
      },
      "outputs": [],
      "source": [
        "#augmentation\n",
        "prompt = PromptTemplate(\n",
        "    input_variables=[\"context\", \"question\"],\n",
        "    template = \"\"\"\n",
        "        You are a helpful assistant\n",
        "        Answer Only form the provided transcript context.\n",
        "        If the contex is insufficient, just say you don't know.\n",
        "\n",
        "        context : {context}\n",
        "        question: {question}\n",
        "        answer:\n",
        "        \"\"\"\n",
        ")"
      ]
    },
    {
      "cell_type": "code",
      "execution_count": null,
      "metadata": {
        "id": "e4_k0u_9MLlg"
      },
      "outputs": [],
      "source": [
        "#retrival\n",
        "question = \"what does Geoffrey Hinton suggest\"\n",
        "retrieved_docs = retriever.invoke(question)"
      ]
    },
    {
      "cell_type": "code",
      "execution_count": null,
      "metadata": {
        "id": "8VCuIddkT0_S"
      },
      "outputs": [],
      "source": [
        "context_text = \"\\n\\n\".join(doc.page_content for doc in retrieved_docs)\n",
        "final_prompt = prompt.invoke({\"context\": context_text, \"question\": question})"
      ]
    },
    {
      "cell_type": "code",
      "execution_count": null,
      "metadata": {
        "colab": {
          "base_uri": "https://localhost:8080/"
        },
        "id": "oX3z8_9Ccphy",
        "outputId": "b23a2859-566f-476b-d0ce-6e0da06e9a6e"
      },
      "outputs": [
        {
          "data": {
            "text/plain": [
              "StringPromptValue(text=\"\\n        You are a helpful assistant \\n        Answer Only form the provided transcript context.\\n        If the contex is insufficient, just say you don't know.\\n\\n        context : for what he was really studying the human brain but back then almost no one thought software could mimic the brain his PhD advisor told him to drop it before it ruined his career Hinton says he failed to figure out the human mind but the long Pursuit led to an artificial version it took much much\\n\\nhelp make advanced artificial intelligence possible and so change the world Hinton believes that AI will do enormous good but tonight he has a warning he says that AI systems may be more intelligent than we know and there's a chance the machines could take over which made us ask the question the\\n\\ndo it knowhow of the human kind runs in Jeffrey hinton's family his ancestors include mathematician George buou who invented the basis of computing and George Everest who surveyed India and got that mountain named after him but as a boy Hinton himself could never climb the peak of expectations\\n\\nat convincing people because they'll have learned from all the novels that were ever written all the books by makavelli all the political connives they'll know all that stuff they'll know how to do it knowhow of the human kind runs in Jeffrey hinton's family his ancestors include mathematician\\n        question: what does Geoffrey Hinton suggest\\n        \")"
            ]
          },
          "execution_count": 69,
          "metadata": {},
          "output_type": "execute_result"
        }
      ],
      "source": [
        "final_prompt"
      ]
    },
    {
      "cell_type": "code",
      "execution_count": null,
      "metadata": {
        "id": "hQZqzFzmdCM3"
      },
      "outputs": [],
      "source": [
        "from langchain.schema.runnable import RunnableLambda\n",
        "from langchain_core.messages import HumanMessage, AIMessage ,SystemMessage\n",
        "import torch\n",
        "\n",
        "def LLM(messages):\n",
        "    prompt = messages.text\n",
        "    input_ids = tokenizer(prompt, return_tensors=\"pt\").to(\"cuda\")\n",
        "    with torch.no_grad():\n",
        "        output = model.generate(\n",
        "            **input_ids,\n",
        "            max_new_tokens=256,\n",
        "            temperature=0.7,\n",
        "            do_sample=True,\n",
        "            top_p=0.9,\n",
        "            eos_token_id=tokenizer.eos_token_id\n",
        "        )\n",
        "    return tokenizer.decode(output[0], skip_special_tokens=True)\n",
        "\n",
        "# Wrap in LangChain Runnable\n",
        "llm = RunnableLambda(lambda messages: LLM(messages))\n"
      ]
    },
    {
      "cell_type": "code",
      "execution_count": null,
      "metadata": {
        "colab": {
          "base_uri": "https://localhost:8080/",
          "height": 124
        },
        "id": "McPTM1vkdbZV",
        "outputId": "c374c2b4-e02d-4b74-e3bc-243e0867cf9e"
      },
      "outputs": [
        {
          "data": {
            "application/vnd.google.colaboratory.intrinsic+json": {
              "type": "string"
            },
            "text/plain": [
              "\"\\n        You are a helpful assistant \\n        Answer Only form the provided transcript context.\\n        If the contex is insufficient, just say you don't know.\\n\\n        context : for what he was really studying the human brain but back then almost no one thought software could mimic the brain his PhD advisor told him to drop it before it ruined his career Hinton says he failed to figure out the human mind but the long Pursuit led to an artificial version it took much much\\n\\nhelp make advanced artificial intelligence possible and so change the world Hinton believes that AI will do enormous good but tonight he has a warning he says that AI systems may be more intelligent than we know and there's a chance the machines could take over which made us ask the question the\\n\\ndo it knowhow of the human kind runs in Jeffrey hinton's family his ancestors include mathematician George buou who invented the basis of computing and George Everest who surveyed India and got that mountain named after him but as a boy Hinton himself could never climb the peak of expectations\\n\\nat convincing people because they'll have learned from all the novels that were ever written all the books by makavelli all the political connives they'll know all that stuff they'll know how to do it knowhow of the human kind runs in Jeffrey hinton's family his ancestors include mathematician\\n        question: what does Geoffrey Hinton suggest\\n        \""
            ]
          },
          "execution_count": 83,
          "metadata": {},
          "output_type": "execute_result"
        }
      ],
      "source": [
        "final_prompt.text"
      ]
    },
    {
      "cell_type": "code",
      "execution_count": null,
      "metadata": {
        "id": "JPznm7PzbMGp"
      },
      "outputs": [],
      "source": [
        "answer = llm.invoke(final_prompt)"
      ]
    },
    {
      "cell_type": "code",
      "execution_count": null,
      "metadata": {
        "colab": {
          "base_uri": "https://localhost:8080/",
          "height": 176
        },
        "id": "qbU0BLBZcHDl",
        "outputId": "e32f7526-f6d6-43c3-b8b7-085cd1e34165"
      },
      "outputs": [
        {
          "data": {
            "application/vnd.google.colaboratory.intrinsic+json": {
              "type": "string"
            },
            "text/plain": [
              "\"\\n        You are a helpful assistant \\n        Answer Only form the provided transcript context.\\n        If the contex is insufficient, just say you don't know.\\n\\n        context : for what he was really studying the human brain but back then almost no one thought software could mimic the brain his PhD advisor told him to drop it before it ruined his career Hinton says he failed to figure out the human mind but the long Pursuit led to an artificial version it took much much\\n\\nhelp make advanced artificial intelligence possible and so change the world Hinton believes that AI will do enormous good but tonight he has a warning he says that AI systems may be more intelligent than we know and there's a chance the machines could take over which made us ask the question the\\n\\ndo it knowhow of the human kind runs in Jeffrey hinton's family his ancestors include mathematician George buou who invented the basis of computing and George Everest who surveyed India and got that mountain named after him but as a boy Hinton himself could never climb the peak of expectations\\n\\nat convincing people because they'll have learned from all the novels that were ever written all the books by makavelli all the political connives they'll know all that stuff they'll know how to do it knowhow of the human kind runs in Jeffrey hinton's family his ancestors include mathematician\\n        question: what does Geoffrey Hinton suggest\\n        \\nanswer: The possibility that AI systems might become more intelligent than we know, with a risk of machines taking over.\\n\\n\""
            ]
          },
          "execution_count": 87,
          "metadata": {},
          "output_type": "execute_result"
        }
      ],
      "source": [
        "answer"
      ]
    },
    {
      "cell_type": "code",
      "execution_count": null,
      "metadata": {
        "colab": {
          "base_uri": "https://localhost:8080/"
        },
        "id": "04KRdjEFd3oG",
        "outputId": "e83c03ff-ccff-47c1-b766-a72a71dad0fc"
      },
      "outputs": [
        {
          "name": "stdout",
          "output_type": "stream",
          "text": [
            "The possibility that AI systems might become more intelligent than we know, with a risk of machines taking over. "
          ]
        }
      ],
      "source": [
        "model_answer = answer.split()\n",
        "for i in model_answer:\n",
        "  if(i == \"answer:\"):\n",
        "    for j in model_answer[model_answer.index(i)+1:]:\n",
        "      print(j,end=\" \")"
      ]
    },
    {
      "cell_type": "code",
      "execution_count": null,
      "metadata": {
        "id": "rIxzCjEagIg9"
      },
      "outputs": [],
      "source": []
    }
  ],
  "metadata": {
    "accelerator": "GPU",
    "colab": {
      "gpuType": "T4",
      "provenance": []
    },
    "kernelspec": {
      "display_name": "Python 3",
      "name": "python3"
    },
    "language_info": {
      "name": "python"
    }
  },
  "nbformat": 4,
  "nbformat_minor": 0
}
